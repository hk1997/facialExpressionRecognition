{
 "cells": [
  {
   "cell_type": "code",
   "execution_count": 0,
   "metadata": {
    "colab": {
     "autoexec": {
      "startup": false,
      "wait_interval": 0
     }
    },
    "colab_type": "code",
    "id": "8szhVRwhypzn"
   },
   "outputs": [],
   "source": [
    "# 1zsEcrLUT7M19hNOJDyNck9Gddypnc6Gk"
   ]
  },
  {
   "cell_type": "code",
   "execution_count": 0,
   "metadata": {
    "colab": {
     "autoexec": {
      "startup": false,
      "wait_interval": 0
     }
    },
    "colab_type": "code",
    "id": "t2PX2LJNyuwm"
   },
   "outputs": [],
   "source": [
    "from google.colab import auth\n",
    "auth.authenticate_user()\n",
    "from googleapiclient.discovery import build\n",
    "drive_service = build('drive', 'v3')"
   ]
  },
  {
   "cell_type": "code",
   "execution_count": 0,
   "metadata": {
    "colab": {
     "autoexec": {
      "startup": false,
      "wait_interval": 0
     }
    },
    "colab_type": "code",
    "id": "XmTZedsgy0Oy"
   },
   "outputs": [],
   "source": [
    "     !pip install -U -q PyDrive ## you will have install for every colab session\n",
    "\n",
    "     from pydrive.auth import GoogleAuth\n",
    "     from pydrive.drive import GoogleDrive\n",
    "     from google.colab import auth\n",
    "     from oauth2client.client import GoogleCredentials\n",
    "\n",
    "     # 1. Authenticate and create the PyDrive client.\n",
    "     auth.authenticate_user()\n",
    "     gauth = GoogleAuth()\n",
    "     gauth.credentials = GoogleCredentials.get_application_default()\n",
    "     drive = GoogleDrive(gauth)"
   ]
  },
  {
   "cell_type": "code",
   "execution_count": 0,
   "metadata": {
    "colab": {
     "autoexec": {
      "startup": false,
      "wait_interval": 0
     }
    },
    "colab_type": "code",
    "id": "IllJwIxnzE-l"
   },
   "outputs": [],
   "source": [
    "!mkdir -p drive\n",
    "!google-drive-ocamlfuse drive"
   ]
  },
  {
   "cell_type": "code",
   "execution_count": 13,
   "metadata": {
    "colab": {
     "autoexec": {
      "startup": false,
      "wait_interval": 0
     },
     "base_uri": "https://localhost:8080/",
     "height": 272,
     "output_extras": [
      {
       "item_id": 1
      }
     ]
    },
    "colab_type": "code",
    "executionInfo": {
     "elapsed": 2740,
     "status": "ok",
     "timestamp": 1522697333632,
     "user": {
      "displayName": "hardik khandelwal",
      "photoUrl": "https://lh3.googleusercontent.com/a/default-user=s128",
      "userId": "100476914108230960817"
     },
     "user_tz": -330
    },
    "id": "v4cc09nLzI86",
    "outputId": "2f964b6e-3f7a-415d-cad2-5b366ba2498e"
   },
   "outputs": [
    {
     "name": "stdout",
     "output_type": "stream",
     "text": [
      "2015IPG-034\t\t\t  p2_hk.zip\r\n",
      "aasf java.zip\t\t\t  PushNotification_biovoix_api.odt\r\n",
      "anchal\t\t\t\t  received_894274520716614.jpeg\r\n",
      "bareilly expense sheet.ods\t  Resume.docx\r\n",
      "Colab Notebooks\t\t\t  Resume.docx.odt\r\n",
      "Contact Information.zip\t\t  Resume.odt\r\n",
      "data_image_npy\t\t\t  saloni android.zip\r\n",
      "DESS-JBanks-4thEd (8facbdc2).pdf  Sample upload.txt\r\n",
      "DESS-JBanks-4thEd.pdf\t\t  SEM4\r\n",
      "event winners uthaan.ods\t  solutionsofdsm (bcaa900b).pdf\r\n",
      "final_deployment_test.zip\t  solutionsofdsm.pdf\r\n",
      "Getting started\t\t\t  Untitled Diagram (3ea371f6).html\r\n",
      "jdk-8u111-windows-x64.exe\t  Untitled Diagram (d71ea568).html\r\n",
      "New folder.zip\t\t\t  Untitled Diagram.html\r\n",
      "OS.zip\t\t\t\t  Untitled Diagram.xml\r\n"
     ]
    }
   ],
   "source": [
    "!ls ./drive"
   ]
  },
  {
   "cell_type": "code",
   "execution_count": 0,
   "metadata": {
    "colab": {
     "autoexec": {
      "startup": false,
      "wait_interval": 0
     }
    },
    "colab_type": "code",
    "id": "dkc_s3-31UYu"
   },
   "outputs": [],
   "source": [
    "! cd ./drive/data_image_npy"
   ]
  },
  {
   "cell_type": "code",
   "execution_count": 17,
   "metadata": {
    "colab": {
     "autoexec": {
      "startup": false,
      "wait_interval": 0
     },
     "base_uri": "https://localhost:8080/",
     "height": 34,
     "output_extras": [
      {
       "item_id": 1
      }
     ]
    },
    "colab_type": "code",
    "executionInfo": {
     "elapsed": 2712,
     "status": "ok",
     "timestamp": 1522697437443,
     "user": {
      "displayName": "hardik khandelwal",
      "photoUrl": "https://lh3.googleusercontent.com/a/default-user=s128",
      "userId": "100476914108230960817"
     },
     "user_tz": -330
    },
    "id": "_CyzZ7721jkp",
    "outputId": "483e7e0c-2252-4e11-9e81-27e9fd3e1d4c"
   },
   "outputs": [
    {
     "name": "stdout",
     "output_type": "stream",
     "text": [
      "test_x.npy  test_y.npy\ttrain_x.npy  train_y.npy\r\n"
     ]
    }
   ],
   "source": [
    "!ls ./drive/data_image_npy"
   ]
  },
  {
   "cell_type": "code",
   "execution_count": 19,
   "metadata": {
    "colab": {
     "autoexec": {
      "startup": false,
      "wait_interval": 0
     },
     "base_uri": "https://localhost:8080/",
     "height": 68,
     "output_extras": [
      {
       "item_id": 2
      },
      {
       "item_id": 3
      }
     ]
    },
    "colab_type": "code",
    "executionInfo": {
     "elapsed": 20929,
     "status": "ok",
     "timestamp": 1522697568056,
     "user": {
      "displayName": "hardik khandelwal",
      "photoUrl": "https://lh3.googleusercontent.com/a/default-user=s128",
      "userId": "100476914108230960817"
     },
     "user_tz": -330
    },
    "id": "p9sP5PYJ1kqN",
    "outputId": "0f4e3853-3a6f-4dad-d550-3edf7338b088"
   },
   "outputs": [
    {
     "name": "stdout",
     "output_type": "stream",
     "text": [
      "(28709, 48, 48, 1)\n",
      "(28709, 7)\n"
     ]
    },
    {
     "name": "stderr",
     "output_type": "stream",
     "text": [
      "Using TensorFlow backend.\n"
     ]
    }
   ],
   "source": [
    "import numpy as np\n",
    "import os\n",
    "data_path='./drive/data_image_npy'\n",
    "x=np.load(os.path.join(data_path,'train_x.npy'))\n",
    "x=x.reshape(x.shape[0],48,48,1)\n",
    "print(x.shape)\n",
    "y=np.load(os.path.join(data_path,'train_y.npy'))\n",
    "#converting y to one hot vectors\n",
    "_y=[]\n",
    "for i in y:\n",
    "    temp=np.zeros(7)\n",
    "    temp[i]=1\n",
    "    _y.append(temp)\n",
    "y=np.array(_y)\n",
    "print(y.shape)\n",
    "from keras.models import Sequential\n",
    "from keras.layers import Conv2D,MaxPooling2D,Dense, Activation,Flatten,Dropout"
   ]
  },
  {
   "cell_type": "code",
   "execution_count": 0,
   "metadata": {
    "colab": {
     "autoexec": {
      "startup": false,
      "wait_interval": 0
     }
    },
    "colab_type": "code",
    "id": "FuNxefQA2G9y"
   },
   "outputs": [],
   "source": [
    "from keras import regularizers\n",
    "model=Sequential()\n",
    "model.add(Conv2D(filters=96,kernel_size=(3,3),strides=(1,1),padding='same',activation='relu',input_shape=x.shape[1:]))\n",
    "model.add(MaxPooling2D(pool_size=(2, 2),padding='valid'))\n",
    "model.add(Conv2D(filters=256,kernel_size=(2,2),strides=(1,1),padding='valid',activation='relu'))\n",
    "model.add(Conv2D(filters=384,kernel_size=(2,2),strides=(1,1),padding='valid',activation='relu'))\n",
    "model.add(Conv2D(filters=384,kernel_size=(2,2),strides=(1,1),padding='valid',activation='relu'))\n",
    "model.add(MaxPooling2D(pool_size=(2, 2),padding='valid'))\n",
    "model.add(Flatten())\n",
    "model.add(Activation('relu'))\n",
    "model.add(Dense(1024))\n",
    "model.add(Activation('relu'))\n",
    "model.add(Dropout(0.5))\n",
    "model.add(Dense(1024))\n",
    "model.add(Activation('relu'))\n",
    "model.add(Dropout(0.5))\n",
    "model.add(Dense(7))\n",
    "model.add(Activation('softmax'))"
   ]
  },
  {
   "cell_type": "code",
   "execution_count": 52,
   "metadata": {
    "colab": {
     "autoexec": {
      "startup": false,
      "wait_interval": 0
     },
     "base_uri": "https://localhost:8080/",
     "height": 680,
     "output_extras": [
      {
       "item_id": 1
      }
     ]
    },
    "colab_type": "code",
    "executionInfo": {
     "elapsed": 894,
     "status": "ok",
     "timestamp": 1522702031245,
     "user": {
      "displayName": "hardik khandelwal",
      "photoUrl": "https://lh3.googleusercontent.com/a/default-user=s128",
      "userId": "100476914108230960817"
     },
     "user_tz": -330
    },
    "id": "92gbh5EJ2SCR",
    "outputId": "d744a71b-47b4-40ca-9dc5-f5773487008a"
   },
   "outputs": [
    {
     "name": "stdout",
     "output_type": "stream",
     "text": [
      "_________________________________________________________________\n",
      "Layer (type)                 Output Shape              Param #   \n",
      "=================================================================\n",
      "conv2d_21 (Conv2D)           (None, 48, 48, 96)        960       \n",
      "_________________________________________________________________\n",
      "max_pooling2d_11 (MaxPooling (None, 24, 24, 96)        0         \n",
      "_________________________________________________________________\n",
      "conv2d_22 (Conv2D)           (None, 23, 23, 256)       98560     \n",
      "_________________________________________________________________\n",
      "conv2d_23 (Conv2D)           (None, 22, 22, 384)       393600    \n",
      "_________________________________________________________________\n",
      "conv2d_24 (Conv2D)           (None, 21, 21, 384)       590208    \n",
      "_________________________________________________________________\n",
      "max_pooling2d_12 (MaxPooling (None, 10, 10, 384)       0         \n",
      "_________________________________________________________________\n",
      "flatten_6 (Flatten)          (None, 38400)             0         \n",
      "_________________________________________________________________\n",
      "activation_21 (Activation)   (None, 38400)             0         \n",
      "_________________________________________________________________\n",
      "dense_16 (Dense)             (None, 1024)              39322624  \n",
      "_________________________________________________________________\n",
      "activation_22 (Activation)   (None, 1024)              0         \n",
      "_________________________________________________________________\n",
      "dropout_11 (Dropout)         (None, 1024)              0         \n",
      "_________________________________________________________________\n",
      "dense_17 (Dense)             (None, 1024)              1049600   \n",
      "_________________________________________________________________\n",
      "activation_23 (Activation)   (None, 1024)              0         \n",
      "_________________________________________________________________\n",
      "dropout_12 (Dropout)         (None, 1024)              0         \n",
      "_________________________________________________________________\n",
      "dense_18 (Dense)             (None, 7)                 7175      \n",
      "_________________________________________________________________\n",
      "activation_24 (Activation)   (None, 7)                 0         \n",
      "=================================================================\n",
      "Total params: 41,462,727\n",
      "Trainable params: 41,462,727\n",
      "Non-trainable params: 0\n",
      "_________________________________________________________________\n"
     ]
    }
   ],
   "source": [
    "model.summary()"
   ]
  },
  {
   "cell_type": "code",
   "execution_count": 0,
   "metadata": {
    "colab": {
     "autoexec": {
      "startup": false,
      "wait_interval": 0
     }
    },
    "colab_type": "code",
    "id": "0Ve57WrM2URq"
   },
   "outputs": [],
   "source": [
    "from keras.optimizers import Adam\n",
    "ar=Adam(lr=0.001, beta_1=0.9, beta_2=0.999,decay=1e-6)\n",
    "model.compile(loss='binary_crossentropy',optimizer=ar,metrics=['accuracy'])"
   ]
  },
  {
   "cell_type": "code",
   "execution_count": 54,
   "metadata": {
    "colab": {
     "autoexec": {
      "startup": false,
      "wait_interval": 0
     },
     "base_uri": "https://localhost:8080/",
     "height": 1645,
     "output_extras": [
      {
       "item_id": 428
      },
      {
       "item_id": 895
      },
      {
       "item_id": 1305
      },
      {
       "item_id": 1697
      },
      {
       "item_id": 1791
      },
      {
       "item_id": 1792
      }
     ]
    },
    "colab_type": "code",
    "executionInfo": {
     "elapsed": 690258,
     "status": "error",
     "timestamp": 1522702733108,
     "user": {
      "displayName": "hardik khandelwal",
      "photoUrl": "https://lh3.googleusercontent.com/a/default-user=s128",
      "userId": "100476914108230960817"
     },
     "user_tz": -330
    },
    "id": "oeMqLVcr2XSb",
    "outputId": "d41dfeac-9b82-4676-d84a-91be83a42abb"
   },
   "outputs": [
    {
     "name": "stdout",
     "output_type": "stream",
     "text": [
      "Train on 25838 samples, validate on 2871 samples\n",
      "Epoch 1/15\n",
      "25838/25838 [==============================] - 76s 3ms/step - loss: 0.3833 - acc: 0.8574 - val_loss: 0.3673 - val_acc: 0.8576\n",
      "Epoch 2/15\n",
      "25838/25838 [==============================] - 75s 3ms/step - loss: 0.3443 - acc: 0.8669 - val_loss: 0.3102 - val_acc: 0.8778\n",
      "Epoch 3/15\n",
      " 4096/25838 [===>..........................] - ETA: 1:01 - loss: 0.3140 - acc: 0.876525838/25838 [==============================] - 75s 3ms/step - loss: 0.3090 - acc: 0.8783 - val_loss: 0.2955 - val_acc: 0.8813\n",
      "Epoch 4/15\n",
      "25838/25838 [==============================] - 75s 3ms/step - loss: 0.2844 - acc: 0.8857 - val_loss: 0.2732 - val_acc: 0.8896\n",
      "Epoch 5/15\n",
      "14464/25838 [===============>..............] - ETA: 31s - loss: 0.2589 - acc: 0.893625838/25838 [==============================] - 75s 3ms/step - loss: 0.2614 - acc: 0.8930 - val_loss: 0.2694 - val_acc: 0.8910\n",
      "Epoch 6/15\n",
      "25838/25838 [==============================] - 75s 3ms/step - loss: 0.2352 - acc: 0.9043 - val_loss: 0.2644 - val_acc: 0.8934\n",
      "Epoch 7/15\n",
      "16896/25838 [==================>...........] - ETA: 25s - loss: 0.2057 - acc: 0.916225838/25838 [==============================] - 75s 3ms/step - loss: 0.2058 - acc: 0.9162 - val_loss: 0.2737 - val_acc: 0.8923\n",
      "Epoch 8/15\n",
      "25838/25838 [==============================] - 75s 3ms/step - loss: 0.1777 - acc: 0.9280 - val_loss: 0.2743 - val_acc: 0.8935\n",
      "Epoch 9/15\n",
      "17408/25838 [===================>..........] - ETA: 23s - loss: 0.1458 - acc: 0.942325838/25838 [==============================] - 75s 3ms/step - loss: 0.1491 - acc: 0.9409 - val_loss: 0.3105 - val_acc: 0.8886\n",
      "Epoch 10/15\n",
      " 4224/25838 [===>..........................] - ETA: 1:00 - loss: 0.1265 - acc: 0.9502"
     ]
    },
    {
     "ename": "KeyboardInterrupt",
     "evalue": "ignored",
     "output_type": "error",
     "traceback": [
      "\u001b[0;31m---------------------------------------------------------------------------\u001b[0m",
      "\u001b[0;31mKeyboardInterrupt\u001b[0m                         Traceback (most recent call last)",
      "\u001b[0;32m<ipython-input-54-0c53cae84d88>\u001b[0m in \u001b[0;36m<module>\u001b[0;34m()\u001b[0m\n\u001b[1;32m      1\u001b[0m \u001b[0mbatch_size\u001b[0m\u001b[0;34m=\u001b[0m\u001b[0;36m128\u001b[0m\u001b[0;34m\u001b[0m\u001b[0m\n\u001b[1;32m      2\u001b[0m model.fit(x, y, batch_size=batch_size, epochs=15,\n\u001b[0;32m----> 3\u001b[0;31m               validation_split=0.1, shuffle=True)\n\u001b[0m",
      "\u001b[0;32m/usr/local/lib/python3.6/dist-packages/keras/models.py\u001b[0m in \u001b[0;36mfit\u001b[0;34m(self, x, y, batch_size, epochs, verbose, callbacks, validation_split, validation_data, shuffle, class_weight, sample_weight, initial_epoch, steps_per_epoch, validation_steps, **kwargs)\u001b[0m\n\u001b[1;32m    961\u001b[0m                               \u001b[0minitial_epoch\u001b[0m\u001b[0;34m=\u001b[0m\u001b[0minitial_epoch\u001b[0m\u001b[0;34m,\u001b[0m\u001b[0;34m\u001b[0m\u001b[0m\n\u001b[1;32m    962\u001b[0m                               \u001b[0msteps_per_epoch\u001b[0m\u001b[0;34m=\u001b[0m\u001b[0msteps_per_epoch\u001b[0m\u001b[0;34m,\u001b[0m\u001b[0;34m\u001b[0m\u001b[0m\n\u001b[0;32m--> 963\u001b[0;31m                               validation_steps=validation_steps)\n\u001b[0m\u001b[1;32m    964\u001b[0m \u001b[0;34m\u001b[0m\u001b[0m\n\u001b[1;32m    965\u001b[0m     def evaluate(self, x=None, y=None,\n",
      "\u001b[0;32m/usr/local/lib/python3.6/dist-packages/keras/engine/training.py\u001b[0m in \u001b[0;36mfit\u001b[0;34m(self, x, y, batch_size, epochs, verbose, callbacks, validation_split, validation_data, shuffle, class_weight, sample_weight, initial_epoch, steps_per_epoch, validation_steps, **kwargs)\u001b[0m\n\u001b[1;32m   1703\u001b[0m                               \u001b[0minitial_epoch\u001b[0m\u001b[0;34m=\u001b[0m\u001b[0minitial_epoch\u001b[0m\u001b[0;34m,\u001b[0m\u001b[0;34m\u001b[0m\u001b[0m\n\u001b[1;32m   1704\u001b[0m                               \u001b[0msteps_per_epoch\u001b[0m\u001b[0;34m=\u001b[0m\u001b[0msteps_per_epoch\u001b[0m\u001b[0;34m,\u001b[0m\u001b[0;34m\u001b[0m\u001b[0m\n\u001b[0;32m-> 1705\u001b[0;31m                               validation_steps=validation_steps)\n\u001b[0m\u001b[1;32m   1706\u001b[0m \u001b[0;34m\u001b[0m\u001b[0m\n\u001b[1;32m   1707\u001b[0m     def evaluate(self, x=None, y=None,\n",
      "\u001b[0;32m/usr/local/lib/python3.6/dist-packages/keras/engine/training.py\u001b[0m in \u001b[0;36m_fit_loop\u001b[0;34m(self, f, ins, out_labels, batch_size, epochs, verbose, callbacks, val_f, val_ins, shuffle, callback_metrics, initial_epoch, steps_per_epoch, validation_steps)\u001b[0m\n\u001b[1;32m   1233\u001b[0m                         \u001b[0mins_batch\u001b[0m\u001b[0;34m[\u001b[0m\u001b[0mi\u001b[0m\u001b[0;34m]\u001b[0m \u001b[0;34m=\u001b[0m \u001b[0mins_batch\u001b[0m\u001b[0;34m[\u001b[0m\u001b[0mi\u001b[0m\u001b[0;34m]\u001b[0m\u001b[0;34m.\u001b[0m\u001b[0mtoarray\u001b[0m\u001b[0;34m(\u001b[0m\u001b[0;34m)\u001b[0m\u001b[0;34m\u001b[0m\u001b[0m\n\u001b[1;32m   1234\u001b[0m \u001b[0;34m\u001b[0m\u001b[0m\n\u001b[0;32m-> 1235\u001b[0;31m                     \u001b[0mouts\u001b[0m \u001b[0;34m=\u001b[0m \u001b[0mf\u001b[0m\u001b[0;34m(\u001b[0m\u001b[0mins_batch\u001b[0m\u001b[0;34m)\u001b[0m\u001b[0;34m\u001b[0m\u001b[0m\n\u001b[0m\u001b[1;32m   1236\u001b[0m                     \u001b[0;32mif\u001b[0m \u001b[0;32mnot\u001b[0m \u001b[0misinstance\u001b[0m\u001b[0;34m(\u001b[0m\u001b[0mouts\u001b[0m\u001b[0;34m,\u001b[0m \u001b[0mlist\u001b[0m\u001b[0;34m)\u001b[0m\u001b[0;34m:\u001b[0m\u001b[0;34m\u001b[0m\u001b[0m\n\u001b[1;32m   1237\u001b[0m                         \u001b[0mouts\u001b[0m \u001b[0;34m=\u001b[0m \u001b[0;34m[\u001b[0m\u001b[0mouts\u001b[0m\u001b[0;34m]\u001b[0m\u001b[0;34m\u001b[0m\u001b[0m\n",
      "\u001b[0;32m/usr/local/lib/python3.6/dist-packages/keras/backend/tensorflow_backend.py\u001b[0m in \u001b[0;36m__call__\u001b[0;34m(self, inputs)\u001b[0m\n\u001b[1;32m   2476\u001b[0m         \u001b[0msession\u001b[0m \u001b[0;34m=\u001b[0m \u001b[0mget_session\u001b[0m\u001b[0;34m(\u001b[0m\u001b[0;34m)\u001b[0m\u001b[0;34m\u001b[0m\u001b[0m\n\u001b[1;32m   2477\u001b[0m         updated = session.run(fetches=fetches, feed_dict=feed_dict,\n\u001b[0;32m-> 2478\u001b[0;31m                               **self.session_kwargs)\n\u001b[0m\u001b[1;32m   2479\u001b[0m         \u001b[0;32mreturn\u001b[0m \u001b[0mupdated\u001b[0m\u001b[0;34m[\u001b[0m\u001b[0;34m:\u001b[0m\u001b[0mlen\u001b[0m\u001b[0;34m(\u001b[0m\u001b[0mself\u001b[0m\u001b[0;34m.\u001b[0m\u001b[0moutputs\u001b[0m\u001b[0;34m)\u001b[0m\u001b[0;34m]\u001b[0m\u001b[0;34m\u001b[0m\u001b[0m\n\u001b[1;32m   2480\u001b[0m \u001b[0;34m\u001b[0m\u001b[0m\n",
      "\u001b[0;32m/usr/local/lib/python3.6/dist-packages/tensorflow/python/client/session.py\u001b[0m in \u001b[0;36mrun\u001b[0;34m(self, fetches, feed_dict, options, run_metadata)\u001b[0m\n\u001b[1;32m    903\u001b[0m     \u001b[0;32mtry\u001b[0m\u001b[0;34m:\u001b[0m\u001b[0;34m\u001b[0m\u001b[0m\n\u001b[1;32m    904\u001b[0m       result = self._run(None, fetches, feed_dict, options_ptr,\n\u001b[0;32m--> 905\u001b[0;31m                          run_metadata_ptr)\n\u001b[0m\u001b[1;32m    906\u001b[0m       \u001b[0;32mif\u001b[0m \u001b[0mrun_metadata\u001b[0m\u001b[0;34m:\u001b[0m\u001b[0;34m\u001b[0m\u001b[0m\n\u001b[1;32m    907\u001b[0m         \u001b[0mproto_data\u001b[0m \u001b[0;34m=\u001b[0m \u001b[0mtf_session\u001b[0m\u001b[0;34m.\u001b[0m\u001b[0mTF_GetBuffer\u001b[0m\u001b[0;34m(\u001b[0m\u001b[0mrun_metadata_ptr\u001b[0m\u001b[0;34m)\u001b[0m\u001b[0;34m\u001b[0m\u001b[0m\n",
      "\u001b[0;32m/usr/local/lib/python3.6/dist-packages/tensorflow/python/client/session.py\u001b[0m in \u001b[0;36m_run\u001b[0;34m(self, handle, fetches, feed_dict, options, run_metadata)\u001b[0m\n\u001b[1;32m   1135\u001b[0m     \u001b[0;32mif\u001b[0m \u001b[0mfinal_fetches\u001b[0m \u001b[0;32mor\u001b[0m \u001b[0mfinal_targets\u001b[0m \u001b[0;32mor\u001b[0m \u001b[0;34m(\u001b[0m\u001b[0mhandle\u001b[0m \u001b[0;32mand\u001b[0m \u001b[0mfeed_dict_tensor\u001b[0m\u001b[0;34m)\u001b[0m\u001b[0;34m:\u001b[0m\u001b[0;34m\u001b[0m\u001b[0m\n\u001b[1;32m   1136\u001b[0m       results = self._do_run(handle, final_targets, final_fetches,\n\u001b[0;32m-> 1137\u001b[0;31m                              feed_dict_tensor, options, run_metadata)\n\u001b[0m\u001b[1;32m   1138\u001b[0m     \u001b[0;32melse\u001b[0m\u001b[0;34m:\u001b[0m\u001b[0;34m\u001b[0m\u001b[0m\n\u001b[1;32m   1139\u001b[0m       \u001b[0mresults\u001b[0m \u001b[0;34m=\u001b[0m \u001b[0;34m[\u001b[0m\u001b[0;34m]\u001b[0m\u001b[0;34m\u001b[0m\u001b[0m\n",
      "\u001b[0;32m/usr/local/lib/python3.6/dist-packages/tensorflow/python/client/session.py\u001b[0m in \u001b[0;36m_do_run\u001b[0;34m(self, handle, target_list, fetch_list, feed_dict, options, run_metadata)\u001b[0m\n\u001b[1;32m   1353\u001b[0m     \u001b[0;32mif\u001b[0m \u001b[0mhandle\u001b[0m \u001b[0;32mis\u001b[0m \u001b[0;32mNone\u001b[0m\u001b[0;34m:\u001b[0m\u001b[0;34m\u001b[0m\u001b[0m\n\u001b[1;32m   1354\u001b[0m       return self._do_call(_run_fn, self._session, feeds, fetches, targets,\n\u001b[0;32m-> 1355\u001b[0;31m                            options, run_metadata)\n\u001b[0m\u001b[1;32m   1356\u001b[0m     \u001b[0;32melse\u001b[0m\u001b[0;34m:\u001b[0m\u001b[0;34m\u001b[0m\u001b[0m\n\u001b[1;32m   1357\u001b[0m       \u001b[0;32mreturn\u001b[0m \u001b[0mself\u001b[0m\u001b[0;34m.\u001b[0m\u001b[0m_do_call\u001b[0m\u001b[0;34m(\u001b[0m\u001b[0m_prun_fn\u001b[0m\u001b[0;34m,\u001b[0m \u001b[0mself\u001b[0m\u001b[0;34m.\u001b[0m\u001b[0m_session\u001b[0m\u001b[0;34m,\u001b[0m \u001b[0mhandle\u001b[0m\u001b[0;34m,\u001b[0m \u001b[0mfeeds\u001b[0m\u001b[0;34m,\u001b[0m \u001b[0mfetches\u001b[0m\u001b[0;34m)\u001b[0m\u001b[0;34m\u001b[0m\u001b[0m\n",
      "\u001b[0;32m/usr/local/lib/python3.6/dist-packages/tensorflow/python/client/session.py\u001b[0m in \u001b[0;36m_do_call\u001b[0;34m(self, fn, *args)\u001b[0m\n\u001b[1;32m   1359\u001b[0m   \u001b[0;32mdef\u001b[0m \u001b[0m_do_call\u001b[0m\u001b[0;34m(\u001b[0m\u001b[0mself\u001b[0m\u001b[0;34m,\u001b[0m \u001b[0mfn\u001b[0m\u001b[0;34m,\u001b[0m \u001b[0;34m*\u001b[0m\u001b[0margs\u001b[0m\u001b[0;34m)\u001b[0m\u001b[0;34m:\u001b[0m\u001b[0;34m\u001b[0m\u001b[0m\n\u001b[1;32m   1360\u001b[0m     \u001b[0;32mtry\u001b[0m\u001b[0;34m:\u001b[0m\u001b[0;34m\u001b[0m\u001b[0m\n\u001b[0;32m-> 1361\u001b[0;31m       \u001b[0;32mreturn\u001b[0m \u001b[0mfn\u001b[0m\u001b[0;34m(\u001b[0m\u001b[0;34m*\u001b[0m\u001b[0margs\u001b[0m\u001b[0;34m)\u001b[0m\u001b[0;34m\u001b[0m\u001b[0m\n\u001b[0m\u001b[1;32m   1362\u001b[0m     \u001b[0;32mexcept\u001b[0m \u001b[0merrors\u001b[0m\u001b[0;34m.\u001b[0m\u001b[0mOpError\u001b[0m \u001b[0;32mas\u001b[0m \u001b[0me\u001b[0m\u001b[0;34m:\u001b[0m\u001b[0;34m\u001b[0m\u001b[0m\n\u001b[1;32m   1363\u001b[0m       \u001b[0mmessage\u001b[0m \u001b[0;34m=\u001b[0m \u001b[0mcompat\u001b[0m\u001b[0;34m.\u001b[0m\u001b[0mas_text\u001b[0m\u001b[0;34m(\u001b[0m\u001b[0me\u001b[0m\u001b[0;34m.\u001b[0m\u001b[0mmessage\u001b[0m\u001b[0;34m)\u001b[0m\u001b[0;34m\u001b[0m\u001b[0m\n",
      "\u001b[0;32m/usr/local/lib/python3.6/dist-packages/tensorflow/python/client/session.py\u001b[0m in \u001b[0;36m_run_fn\u001b[0;34m(session, feed_dict, fetch_list, target_list, options, run_metadata)\u001b[0m\n\u001b[1;32m   1338\u001b[0m         \u001b[0;32melse\u001b[0m\u001b[0;34m:\u001b[0m\u001b[0;34m\u001b[0m\u001b[0m\n\u001b[1;32m   1339\u001b[0m           return tf_session.TF_Run(session, options, feed_dict, fetch_list,\n\u001b[0;32m-> 1340\u001b[0;31m                                    target_list, status, run_metadata)\n\u001b[0m\u001b[1;32m   1341\u001b[0m \u001b[0;34m\u001b[0m\u001b[0m\n\u001b[1;32m   1342\u001b[0m     \u001b[0;32mdef\u001b[0m \u001b[0m_prun_fn\u001b[0m\u001b[0;34m(\u001b[0m\u001b[0msession\u001b[0m\u001b[0;34m,\u001b[0m \u001b[0mhandle\u001b[0m\u001b[0;34m,\u001b[0m \u001b[0mfeed_dict\u001b[0m\u001b[0;34m,\u001b[0m \u001b[0mfetch_list\u001b[0m\u001b[0;34m)\u001b[0m\u001b[0;34m:\u001b[0m\u001b[0;34m\u001b[0m\u001b[0m\n",
      "\u001b[0;31mKeyboardInterrupt\u001b[0m: "
     ]
    }
   ],
   "source": [
    "batch_size=128\n",
    "model.fit(x, y, batch_size=batch_size, epochs=15,\n",
    "              validation_split=0.1, shuffle=True)"
   ]
  },
  {
   "cell_type": "code",
   "execution_count": 55,
   "metadata": {
    "colab": {
     "autoexec": {
      "startup": false,
      "wait_interval": 0
     },
     "base_uri": "https://localhost:8080/",
     "height": 34,
     "output_extras": [
      {
       "item_id": 1
      }
     ]
    },
    "colab_type": "code",
    "executionInfo": {
     "elapsed": 2912,
     "status": "ok",
     "timestamp": 1522702740527,
     "user": {
      "displayName": "hardik khandelwal",
      "photoUrl": "https://lh3.googleusercontent.com/a/default-user=s128",
      "userId": "100476914108230960817"
     },
     "user_tz": -330
    },
    "id": "a7jOtsWh2Zp-",
    "outputId": "146a1804-078e-4935-db14-b17a967bbd37"
   },
   "outputs": [
    {
     "name": "stdout",
     "output_type": "stream",
     "text": [
      "(7178, 48, 48, 1)\n"
     ]
    }
   ],
   "source": [
    "data_path='./drive/data_image_npy'\n",
    "x_test=np.load(os.path.join(data_path,'test_x.npy'))\n",
    "x_test=x_test.reshape(x_test.shape[0],48,48,1)\n",
    "print(x_test.shape)\n",
    "y_test=np.load(os.path.join(data_path,'test_y.npy'))\n",
    "#converting y to one hot vectors\n",
    "_y=[]\n",
    "for i in y_test:\n",
    "    temp=np.zeros(7)\n",
    "    temp[i]=1\n",
    "    _y.append(temp)\n",
    "y_test=np.array(_y)\n"
   ]
  },
  {
   "cell_type": "code",
   "execution_count": 56,
   "metadata": {
    "colab": {
     "autoexec": {
      "startup": false,
      "wait_interval": 0
     },
     "base_uri": "https://localhost:8080/",
     "height": 51,
     "output_extras": [
      {
       "item_id": 20
      },
      {
       "item_id": 21
      }
     ]
    },
    "colab_type": "code",
    "executionInfo": {
     "elapsed": 8040,
     "status": "ok",
     "timestamp": 1522702749331,
     "user": {
      "displayName": "hardik khandelwal",
      "photoUrl": "https://lh3.googleusercontent.com/a/default-user=s128",
      "userId": "100476914108230960817"
     },
     "user_tz": -330
    },
    "id": "nEXuliJC3lcW",
    "outputId": "00697281-bd11-438d-e03d-fe2f73b64d30"
   },
   "outputs": [
    {
     "name": "stdout",
     "output_type": "stream",
     "text": [
      "7178/7178 [==============================] - 7s 1ms/step\n"
     ]
    },
    {
     "data": {
      "text/plain": [
       "[0.33197658114793344, 0.8848664721561761]"
      ]
     },
     "execution_count": 56,
     "metadata": {
      "tags": []
     },
     "output_type": "execute_result"
    }
   ],
   "source": [
    "model.evaluate(x_test,y_test)"
   ]
  },
  {
   "cell_type": "code",
   "execution_count": 0,
   "metadata": {
    "colab": {
     "autoexec": {
      "startup": false,
      "wait_interval": 0
     }
    },
    "colab_type": "code",
    "id": "VbMIC-F_B3NI"
   },
   "outputs": [],
   "source": []
  }
 ],
 "metadata": {
  "accelerator": "GPU",
  "colab": {
   "default_view": {},
   "name": "facial_recognition.ipynb",
   "provenance": [],
   "version": "0.3.2",
   "views": {}
  },
  "kernelspec": {
   "display_name": "Python 3",
   "language": "python",
   "name": "python3"
  },
  "language_info": {
   "codemirror_mode": {
    "name": "ipython",
    "version": 3
   },
   "file_extension": ".py",
   "mimetype": "text/x-python",
   "name": "python",
   "nbconvert_exporter": "python",
   "pygments_lexer": "ipython3",
   "version": "3.6.3"
  }
 },
 "nbformat": 4,
 "nbformat_minor": 1
}
